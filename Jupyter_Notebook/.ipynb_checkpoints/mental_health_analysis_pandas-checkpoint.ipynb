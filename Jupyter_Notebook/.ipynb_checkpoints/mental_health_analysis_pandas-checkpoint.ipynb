{
 "cells": [
  {
   "cell_type": "code",
   "execution_count": 1,
   "id": "1a57e823-df16-4cd4-a17b-47e31473c32f",
   "metadata": {},
   "outputs": [],
   "source": [
    "import pandas as pd"
   ]
  },
  {
   "cell_type": "code",
   "execution_count": 73,
   "id": "c482ee35-c48a-417c-9de7-f5e62a01f87a",
   "metadata": {},
   "outputs": [],
   "source": [
    "data = pd.read_csv(\"Datasets/mental_health_analysis.csv\")"
   ]
  },
  {
   "cell_type": "code",
   "execution_count": 74,
   "id": "a83e6252-3a74-4298-913e-d6029f6f51ab",
   "metadata": {},
   "outputs": [
    {
     "data": {
      "text/html": [
       "<div>\n",
       "<style scoped>\n",
       "    .dataframe tbody tr th:only-of-type {\n",
       "        vertical-align: middle;\n",
       "    }\n",
       "\n",
       "    .dataframe tbody tr th {\n",
       "        vertical-align: top;\n",
       "    }\n",
       "\n",
       "    .dataframe thead th {\n",
       "        text-align: right;\n",
       "    }\n",
       "</style>\n",
       "<table border=\"1\" class=\"dataframe\">\n",
       "  <thead>\n",
       "    <tr style=\"text-align: right;\">\n",
       "      <th></th>\n",
       "      <th>User_ID</th>\n",
       "      <th>Age</th>\n",
       "      <th>Gender</th>\n",
       "      <th>Social_Media_Hours</th>\n",
       "      <th>Exercise_Hours</th>\n",
       "      <th>Sleep_Hours</th>\n",
       "      <th>Screen_Time_Hours</th>\n",
       "      <th>Survey_Stress_Score</th>\n",
       "      <th>Wearable_Stress_Score</th>\n",
       "      <th>Support_System</th>\n",
       "      <th>Academic_Performance</th>\n",
       "    </tr>\n",
       "  </thead>\n",
       "  <tbody>\n",
       "    <tr>\n",
       "      <th>0</th>\n",
       "      <td>1</td>\n",
       "      <td>16</td>\n",
       "      <td>F</td>\n",
       "      <td>9.654486</td>\n",
       "      <td>2.458001</td>\n",
       "      <td>5.198926</td>\n",
       "      <td>8.158189</td>\n",
       "      <td>3</td>\n",
       "      <td>0.288962</td>\n",
       "      <td>Moderate</td>\n",
       "      <td>Excellent</td>\n",
       "    </tr>\n",
       "    <tr>\n",
       "      <th>1</th>\n",
       "      <td>2</td>\n",
       "      <td>17</td>\n",
       "      <td>M</td>\n",
       "      <td>9.158143</td>\n",
       "      <td>0.392095</td>\n",
       "      <td>8.866097</td>\n",
       "      <td>5.151993</td>\n",
       "      <td>5</td>\n",
       "      <td>0.409446</td>\n",
       "      <td>Moderate</td>\n",
       "      <td>Good</td>\n",
       "    </tr>\n",
       "    <tr>\n",
       "      <th>2</th>\n",
       "      <td>3</td>\n",
       "      <td>15</td>\n",
       "      <td>M</td>\n",
       "      <td>5.028755</td>\n",
       "      <td>0.520119</td>\n",
       "      <td>4.943095</td>\n",
       "      <td>9.209325</td>\n",
       "      <td>2</td>\n",
       "      <td>0.423837</td>\n",
       "      <td>Moderate</td>\n",
       "      <td>Poor</td>\n",
       "    </tr>\n",
       "    <tr>\n",
       "      <th>3</th>\n",
       "      <td>4</td>\n",
       "      <td>17</td>\n",
       "      <td>F</td>\n",
       "      <td>7.951103</td>\n",
       "      <td>1.022630</td>\n",
       "      <td>5.262773</td>\n",
       "      <td>9.823658</td>\n",
       "      <td>5</td>\n",
       "      <td>0.666021</td>\n",
       "      <td>Moderate</td>\n",
       "      <td>Average</td>\n",
       "    </tr>\n",
       "    <tr>\n",
       "      <th>4</th>\n",
       "      <td>5</td>\n",
       "      <td>17</td>\n",
       "      <td>F</td>\n",
       "      <td>1.357459</td>\n",
       "      <td>1.225462</td>\n",
       "      <td>6.196080</td>\n",
       "      <td>11.338990</td>\n",
       "      <td>5</td>\n",
       "      <td>0.928060</td>\n",
       "      <td>High</td>\n",
       "      <td>Poor</td>\n",
       "    </tr>\n",
       "    <tr>\n",
       "      <th>5</th>\n",
       "      <td>6</td>\n",
       "      <td>14</td>\n",
       "      <td>M</td>\n",
       "      <td>9.774382</td>\n",
       "      <td>1.046108</td>\n",
       "      <td>9.282089</td>\n",
       "      <td>5.677747</td>\n",
       "      <td>5</td>\n",
       "      <td>0.070586</td>\n",
       "      <td>Low</td>\n",
       "      <td>Poor</td>\n",
       "    </tr>\n",
       "    <tr>\n",
       "      <th>6</th>\n",
       "      <td>7</td>\n",
       "      <td>15</td>\n",
       "      <td>F</td>\n",
       "      <td>9.643532</td>\n",
       "      <td>2.290941</td>\n",
       "      <td>4.790720</td>\n",
       "      <td>8.860167</td>\n",
       "      <td>4</td>\n",
       "      <td>0.953354</td>\n",
       "      <td>Low</td>\n",
       "      <td>Excellent</td>\n",
       "    </tr>\n",
       "    <tr>\n",
       "      <th>7</th>\n",
       "      <td>8</td>\n",
       "      <td>15</td>\n",
       "      <td>F</td>\n",
       "      <td>1.637290</td>\n",
       "      <td>0.290854</td>\n",
       "      <td>4.733405</td>\n",
       "      <td>8.026163</td>\n",
       "      <td>4</td>\n",
       "      <td>0.910201</td>\n",
       "      <td>Moderate</td>\n",
       "      <td>Poor</td>\n",
       "    </tr>\n",
       "  </tbody>\n",
       "</table>\n",
       "</div>"
      ],
      "text/plain": [
       "   User_ID  Age Gender  Social_Media_Hours  Exercise_Hours  Sleep_Hours  \\\n",
       "0        1   16      F            9.654486        2.458001     5.198926   \n",
       "1        2   17      M            9.158143        0.392095     8.866097   \n",
       "2        3   15      M            5.028755        0.520119     4.943095   \n",
       "3        4   17      F            7.951103        1.022630     5.262773   \n",
       "4        5   17      F            1.357459        1.225462     6.196080   \n",
       "5        6   14      M            9.774382        1.046108     9.282089   \n",
       "6        7   15      F            9.643532        2.290941     4.790720   \n",
       "7        8   15      F            1.637290        0.290854     4.733405   \n",
       "\n",
       "   Screen_Time_Hours  Survey_Stress_Score  Wearable_Stress_Score  \\\n",
       "0           8.158189                    3               0.288962   \n",
       "1           5.151993                    5               0.409446   \n",
       "2           9.209325                    2               0.423837   \n",
       "3           9.823658                    5               0.666021   \n",
       "4          11.338990                    5               0.928060   \n",
       "5           5.677747                    5               0.070586   \n",
       "6           8.860167                    4               0.953354   \n",
       "7           8.026163                    4               0.910201   \n",
       "\n",
       "  Support_System Academic_Performance  \n",
       "0       Moderate            Excellent  \n",
       "1       Moderate                 Good  \n",
       "2       Moderate                 Poor  \n",
       "3       Moderate              Average  \n",
       "4           High                 Poor  \n",
       "5            Low                 Poor  \n",
       "6            Low            Excellent  \n",
       "7       Moderate                 Poor  "
      ]
     },
     "execution_count": 74,
     "metadata": {},
     "output_type": "execute_result"
    }
   ],
   "source": [
    "data.head(8)"
   ]
  },
  {
   "cell_type": "markdown",
   "id": "9fad7e4d-a8c9-4d0f-90ad-66d9c10cfe86",
   "metadata": {},
   "source": [
    "### 1️⃣ What is the average sleep duration of users?"
   ]
  },
  {
   "cell_type": "code",
   "execution_count": 8,
   "id": "b05a6a1e-03d1-42d7-9329-d4e48375e1c2",
   "metadata": {},
   "outputs": [
    {
     "data": {
      "text/plain": [
       "np.float64(7.057369915985199)"
      ]
     },
     "execution_count": 8,
     "metadata": {},
     "output_type": "execute_result"
    }
   ],
   "source": [
    "data.Sleep_Hours.mean()"
   ]
  },
  {
   "cell_type": "markdown",
   "id": "b777eea0-1a5e-4375-9ccd-0b829d7c71ab",
   "metadata": {},
   "source": [
    "### 2️⃣ What is the most common age group in the dataset?"
   ]
  },
  {
   "cell_type": "code",
   "execution_count": 9,
   "id": "8f5e847c-dfd0-4388-990e-050d50db6316",
   "metadata": {},
   "outputs": [
    {
     "data": {
      "text/plain": [
       "0    13\n",
       "Name: Age, dtype: int64"
      ]
     },
     "execution_count": 9,
     "metadata": {},
     "output_type": "execute_result"
    }
   ],
   "source": [
    "data.Age.mode()"
   ]
  },
  {
   "cell_type": "markdown",
   "id": "bea1ab6c-8210-4d9f-a90a-8f30ebc4b1d6",
   "metadata": {},
   "source": [
    "###  3️⃣ Is there a correlation between screen time and Exercise Hours?"
   ]
  },
  {
   "cell_type": "code",
   "execution_count": 27,
   "id": "0654bef1-9ef8-48ab-9c53-5e1512381123",
   "metadata": {},
   "outputs": [
    {
     "data": {
      "text/plain": [
       "np.float64(-0.008320469204705075)"
      ]
     },
     "execution_count": 27,
     "metadata": {},
     "output_type": "execute_result"
    }
   ],
   "source": [
    "data[\"Screen_Time_Hours\"].corr(data[\"Exercise_Hours\"])"
   ]
  },
  {
   "cell_type": "markdown",
   "id": "25bb2ffb-c00b-4584-acfa-88ddebe2b1e9",
   "metadata": {},
   "source": [
    "### 4️⃣ Which gender spends more time on social media on average?"
   ]
  },
  {
   "cell_type": "code",
   "execution_count": 106,
   "id": "c156f09a-118e-43b3-a19a-4ea629bbe896",
   "metadata": {},
   "outputs": [
    {
     "data": {
      "text/plain": [
       "'M'"
      ]
     },
     "execution_count": 106,
     "metadata": {},
     "output_type": "execute_result"
    }
   ],
   "source": [
    "data.groupby(\"Gender\")[\"Social_Media_Hours\"].mean().idxmax()"
   ]
  },
  {
   "cell_type": "markdown",
   "id": "ff15885e-bfb3-4ee9-9838-5d125fd21158",
   "metadata": {},
   "source": [
    "### 5️⃣ What is the average wearable stress score for users with a strong support system?"
   ]
  },
  {
   "cell_type": "code",
   "execution_count": 45,
   "id": "ff65f131-e4cd-48c4-8659-94afa3ff1982",
   "metadata": {},
   "outputs": [
    {
     "data": {
      "text/plain": [
       "np.float64(0.4948031882927847)"
      ]
     },
     "execution_count": 45,
     "metadata": {},
     "output_type": "execute_result"
    }
   ],
   "source": [
    "data[data[\"Support_System\"] == 'High'][\"Wearable_Stress_Score\"].mean()"
   ]
  },
  {
   "cell_type": "markdown",
   "id": "eb13a0ca-b2ea-431c-8dc3-d45091d434d0",
   "metadata": {},
   "source": [
    "### 6️⃣ How does exercise time vary with stress levels?"
   ]
  },
  {
   "cell_type": "code",
   "execution_count": 46,
   "id": "ef844db5-a09d-4675-8228-3b0d38a00f94",
   "metadata": {},
   "outputs": [
    {
     "data": {
      "text/plain": [
       "np.float64(0.0024889258386253618)"
      ]
     },
     "execution_count": 46,
     "metadata": {},
     "output_type": "execute_result"
    }
   ],
   "source": [
    "data[\"Exercise_Hours\"].corr(data[\"Survey_Stress_Score\"])"
   ]
  },
  {
   "cell_type": "markdown",
   "id": "a338e85b-8365-4e11-b466-f226b6bb70f0",
   "metadata": {},
   "source": [
    "### 7️⃣ Which factor (social media, sleep, exercise) has the strongest impact on academic performance?"
   ]
  },
  {
   "cell_type": "code",
   "execution_count": 77,
   "id": "e00f02d5-185f-4724-9ae3-d7718d0b1495",
   "metadata": {},
   "outputs": [
    {
     "data": {
      "text/plain": [
       "'Excellent'"
      ]
     },
     "execution_count": 77,
     "metadata": {},
     "output_type": "execute_result"
    }
   ],
   "source": [
    "data.groupby(\"Academic_Performance\")[\"Exercise_Hours\"].mean().idxmax()"
   ]
  },
  {
   "cell_type": "markdown",
   "id": "ca138b03-fc95-4d6c-b081-fa3dcb8970b5",
   "metadata": {},
   "source": [
    "### 8️⃣ What is the distribution of stress scores across different age groups?"
   ]
  },
  {
   "cell_type": "code",
   "execution_count": 79,
   "id": "0b8196f6-f69d-431e-8ff0-e2ee69b02582",
   "metadata": {},
   "outputs": [
    {
     "data": {
      "text/plain": [
       "Age\n",
       "13    2637\n",
       "14    2366\n",
       "15    2467\n",
       "16    2500\n",
       "17    2587\n",
       "18    2522\n",
       "Name: Survey_Stress_Score, dtype: int64"
      ]
     },
     "execution_count": 79,
     "metadata": {},
     "output_type": "execute_result"
    }
   ],
   "source": [
    "data.groupby(\"Age\")[\"Survey_Stress_Score\"].sum()"
   ]
  },
  {
   "cell_type": "markdown",
   "id": "1dff8066-b525-416c-b5ae-6410edfd3ca3",
   "metadata": {},
   "source": [
    "### 9️⃣ Do users who get more sleep report lower stress scores?"
   ]
  },
  {
   "cell_type": "code",
   "execution_count": 86,
   "id": "9b3f08e1-4019-4c3f-866d-1d41613c162a",
   "metadata": {},
   "outputs": [
    {
     "name": "stdout",
     "output_type": "stream",
     "text": [
      "No\n"
     ]
    }
   ],
   "source": [
    "r = data[\"Sleep_Hours\"].corr(data[\"Survey_Stress_Score\"])\n",
    "if(r>0):\n",
    "    print(\"No\")\n",
    "elif(r<0):\n",
    "    print(\"Yes\")\n",
    "else:\n",
    "    print(\"No relation\")"
   ]
  },
  {
   "cell_type": "markdown",
   "id": "dea4fe08-70eb-4963-b2c1-a2adec8ace2b",
   "metadata": {},
   "source": [
    "### 🔟 What percentage of users have low academic performance despite having a strong support system?"
   ]
  },
  {
   "cell_type": "code",
   "execution_count": 103,
   "id": "5134f02a-37ff-438b-a172-a3e854779496",
   "metadata": {},
   "outputs": [
    {
     "name": "stdout",
     "output_type": "stream",
     "text": [
      "8.68 %\n"
     ]
    }
   ],
   "source": [
    "a = data[(data[\"Support_System\"] == \"High\") & (data[\"Academic_Performance\"] == \"Poor\")].shape[0]\n",
    "b = 5000\n",
    "print((a/b)*100,\"%\")"
   ]
  }
 ],
 "metadata": {
  "kernelspec": {
   "display_name": "Python 3 (ipykernel)",
   "language": "python",
   "name": "python3"
  },
  "language_info": {
   "codemirror_mode": {
    "name": "ipython",
    "version": 3
   },
   "file_extension": ".py",
   "mimetype": "text/x-python",
   "name": "python",
   "nbconvert_exporter": "python",
   "pygments_lexer": "ipython3",
   "version": "3.13.1"
  }
 },
 "nbformat": 4,
 "nbformat_minor": 5
}
