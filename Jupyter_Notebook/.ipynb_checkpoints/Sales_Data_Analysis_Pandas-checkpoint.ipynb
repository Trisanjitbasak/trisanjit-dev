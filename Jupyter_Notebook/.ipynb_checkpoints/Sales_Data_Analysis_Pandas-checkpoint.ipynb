{
 "cells": [
  {
   "cell_type": "markdown",
   "id": "5f7cfeb7-4d13-422e-9bb3-21973271e1fa",
   "metadata": {},
   "source": [
    "# 📊 Sales Data Analysis Questions"
   ]
  },
  {
   "cell_type": "code",
   "execution_count": 1,
   "id": "1d20b5fb-d552-48cb-ad75-4832d326b206",
   "metadata": {},
   "outputs": [],
   "source": [
    "import pandas as pd"
   ]
  },
  {
   "cell_type": "code",
   "execution_count": 4,
   "id": "47c2502a-78bd-4ea0-afb6-10c6cca84438",
   "metadata": {},
   "outputs": [],
   "source": [
    "data = pd.read_csv(\"Datasets/sales_data.csv\")"
   ]
  },
  {
   "cell_type": "code",
   "execution_count": 5,
   "id": "a97f0491-cff3-425f-a14f-9e6308e479f7",
   "metadata": {},
   "outputs": [
    {
     "data": {
      "text/html": [
       "<div>\n",
       "<style scoped>\n",
       "    .dataframe tbody tr th:only-of-type {\n",
       "        vertical-align: middle;\n",
       "    }\n",
       "\n",
       "    .dataframe tbody tr th {\n",
       "        vertical-align: top;\n",
       "    }\n",
       "\n",
       "    .dataframe thead th {\n",
       "        text-align: right;\n",
       "    }\n",
       "</style>\n",
       "<table border=\"1\" class=\"dataframe\">\n",
       "  <thead>\n",
       "    <tr style=\"text-align: right;\">\n",
       "      <th></th>\n",
       "      <th>Order ID</th>\n",
       "      <th>Customer Name</th>\n",
       "      <th>Age</th>\n",
       "      <th>Gender</th>\n",
       "      <th>City</th>\n",
       "      <th>Product</th>\n",
       "      <th>Category</th>\n",
       "      <th>Price</th>\n",
       "      <th>Quantity</th>\n",
       "      <th>Total Sales</th>\n",
       "      <th>Purchase Date</th>\n",
       "      <th>Payment Method</th>\n",
       "    </tr>\n",
       "  </thead>\n",
       "  <tbody>\n",
       "    <tr>\n",
       "      <th>0</th>\n",
       "      <td>1001</td>\n",
       "      <td>Karen Johnston</td>\n",
       "      <td>23</td>\n",
       "      <td>Male</td>\n",
       "      <td>Los Angeles</td>\n",
       "      <td>Laptop</td>\n",
       "      <td>Electronics</td>\n",
       "      <td>781</td>\n",
       "      <td>2</td>\n",
       "      <td>1562</td>\n",
       "      <td>2024-05-14</td>\n",
       "      <td>Cash on Delivery</td>\n",
       "    </tr>\n",
       "    <tr>\n",
       "      <th>1</th>\n",
       "      <td>1002</td>\n",
       "      <td>Dr. Kaylee Stevenson</td>\n",
       "      <td>42</td>\n",
       "      <td>Male</td>\n",
       "      <td>Houston</td>\n",
       "      <td>Science Book</td>\n",
       "      <td>Books</td>\n",
       "      <td>165</td>\n",
       "      <td>2</td>\n",
       "      <td>330</td>\n",
       "      <td>2024-10-02</td>\n",
       "      <td>Cash on Delivery</td>\n",
       "    </tr>\n",
       "    <tr>\n",
       "      <th>2</th>\n",
       "      <td>1003</td>\n",
       "      <td>Kelly Lopez</td>\n",
       "      <td>31</td>\n",
       "      <td>Male</td>\n",
       "      <td>Phoenix</td>\n",
       "      <td>Laptop</td>\n",
       "      <td>Electronics</td>\n",
       "      <td>139</td>\n",
       "      <td>1</td>\n",
       "      <td>139</td>\n",
       "      <td>2024-03-24</td>\n",
       "      <td>PayPal</td>\n",
       "    </tr>\n",
       "    <tr>\n",
       "      <th>3</th>\n",
       "      <td>1004</td>\n",
       "      <td>Michelle Hayes</td>\n",
       "      <td>57</td>\n",
       "      <td>Female</td>\n",
       "      <td>Houston</td>\n",
       "      <td>Microwave</td>\n",
       "      <td>Home Appliances</td>\n",
       "      <td>968</td>\n",
       "      <td>3</td>\n",
       "      <td>2904</td>\n",
       "      <td>2025-01-17</td>\n",
       "      <td>Cash on Delivery</td>\n",
       "    </tr>\n",
       "    <tr>\n",
       "      <th>4</th>\n",
       "      <td>1005</td>\n",
       "      <td>Kaitlyn Shannon</td>\n",
       "      <td>25</td>\n",
       "      <td>Male</td>\n",
       "      <td>San Diego</td>\n",
       "      <td>Shoes</td>\n",
       "      <td>Clothing</td>\n",
       "      <td>712</td>\n",
       "      <td>1</td>\n",
       "      <td>712</td>\n",
       "      <td>2025-02-17</td>\n",
       "      <td>Debit Card</td>\n",
       "    </tr>\n",
       "    <tr>\n",
       "      <th>...</th>\n",
       "      <td>...</td>\n",
       "      <td>...</td>\n",
       "      <td>...</td>\n",
       "      <td>...</td>\n",
       "      <td>...</td>\n",
       "      <td>...</td>\n",
       "      <td>...</td>\n",
       "      <td>...</td>\n",
       "      <td>...</td>\n",
       "      <td>...</td>\n",
       "      <td>...</td>\n",
       "      <td>...</td>\n",
       "    </tr>\n",
       "    <tr>\n",
       "      <th>195</th>\n",
       "      <td>1196</td>\n",
       "      <td>Emily Walker</td>\n",
       "      <td>33</td>\n",
       "      <td>Male</td>\n",
       "      <td>Houston</td>\n",
       "      <td>Tablet</td>\n",
       "      <td>Electronics</td>\n",
       "      <td>220</td>\n",
       "      <td>2</td>\n",
       "      <td>440</td>\n",
       "      <td>2024-05-14</td>\n",
       "      <td>Cash on Delivery</td>\n",
       "    </tr>\n",
       "    <tr>\n",
       "      <th>196</th>\n",
       "      <td>1197</td>\n",
       "      <td>Melvin Sims</td>\n",
       "      <td>47</td>\n",
       "      <td>Male</td>\n",
       "      <td>New York</td>\n",
       "      <td>Novel</td>\n",
       "      <td>Books</td>\n",
       "      <td>169</td>\n",
       "      <td>4</td>\n",
       "      <td>676</td>\n",
       "      <td>2024-12-26</td>\n",
       "      <td>Credit Card</td>\n",
       "    </tr>\n",
       "    <tr>\n",
       "      <th>197</th>\n",
       "      <td>1198</td>\n",
       "      <td>Jennifer Serrano</td>\n",
       "      <td>23</td>\n",
       "      <td>Male</td>\n",
       "      <td>San Antonio</td>\n",
       "      <td>Phone</td>\n",
       "      <td>Electronics</td>\n",
       "      <td>299</td>\n",
       "      <td>2</td>\n",
       "      <td>598</td>\n",
       "      <td>2024-04-18</td>\n",
       "      <td>Credit Card</td>\n",
       "    </tr>\n",
       "    <tr>\n",
       "      <th>198</th>\n",
       "      <td>1199</td>\n",
       "      <td>Ethan Cain</td>\n",
       "      <td>50</td>\n",
       "      <td>Female</td>\n",
       "      <td>San Jose</td>\n",
       "      <td>Jacket</td>\n",
       "      <td>Clothing</td>\n",
       "      <td>420</td>\n",
       "      <td>5</td>\n",
       "      <td>2100</td>\n",
       "      <td>2025-02-18</td>\n",
       "      <td>Cash on Delivery</td>\n",
       "    </tr>\n",
       "    <tr>\n",
       "      <th>199</th>\n",
       "      <td>1200</td>\n",
       "      <td>Steven Rodriguez</td>\n",
       "      <td>21</td>\n",
       "      <td>Male</td>\n",
       "      <td>Houston</td>\n",
       "      <td>Washing Machine</td>\n",
       "      <td>Home Appliances</td>\n",
       "      <td>725</td>\n",
       "      <td>1</td>\n",
       "      <td>725</td>\n",
       "      <td>2025-01-24</td>\n",
       "      <td>PayPal</td>\n",
       "    </tr>\n",
       "  </tbody>\n",
       "</table>\n",
       "<p>200 rows × 12 columns</p>\n",
       "</div>"
      ],
      "text/plain": [
       "     Order ID         Customer Name  Age  Gender         City  \\\n",
       "0        1001        Karen Johnston   23    Male  Los Angeles   \n",
       "1        1002  Dr. Kaylee Stevenson   42    Male      Houston   \n",
       "2        1003           Kelly Lopez   31    Male      Phoenix   \n",
       "3        1004        Michelle Hayes   57  Female      Houston   \n",
       "4        1005       Kaitlyn Shannon   25    Male    San Diego   \n",
       "..        ...                   ...  ...     ...          ...   \n",
       "195      1196          Emily Walker   33    Male      Houston   \n",
       "196      1197           Melvin Sims   47    Male     New York   \n",
       "197      1198      Jennifer Serrano   23    Male  San Antonio   \n",
       "198      1199            Ethan Cain   50  Female     San Jose   \n",
       "199      1200      Steven Rodriguez   21    Male      Houston   \n",
       "\n",
       "             Product         Category  Price  Quantity  Total Sales  \\\n",
       "0             Laptop      Electronics    781         2         1562   \n",
       "1       Science Book            Books    165         2          330   \n",
       "2             Laptop      Electronics    139         1          139   \n",
       "3          Microwave  Home Appliances    968         3         2904   \n",
       "4              Shoes         Clothing    712         1          712   \n",
       "..               ...              ...    ...       ...          ...   \n",
       "195           Tablet      Electronics    220         2          440   \n",
       "196            Novel            Books    169         4          676   \n",
       "197            Phone      Electronics    299         2          598   \n",
       "198           Jacket         Clothing    420         5         2100   \n",
       "199  Washing Machine  Home Appliances    725         1          725   \n",
       "\n",
       "    Purchase Date    Payment Method  \n",
       "0      2024-05-14  Cash on Delivery  \n",
       "1      2024-10-02  Cash on Delivery  \n",
       "2      2024-03-24            PayPal  \n",
       "3      2025-01-17  Cash on Delivery  \n",
       "4      2025-02-17        Debit Card  \n",
       "..            ...               ...  \n",
       "195    2024-05-14  Cash on Delivery  \n",
       "196    2024-12-26       Credit Card  \n",
       "197    2024-04-18       Credit Card  \n",
       "198    2025-02-18  Cash on Delivery  \n",
       "199    2025-01-24            PayPal  \n",
       "\n",
       "[200 rows x 12 columns]"
      ]
     },
     "execution_count": 5,
     "metadata": {},
     "output_type": "execute_result"
    }
   ],
   "source": [
    "data"
   ]
  },
  {
   "cell_type": "markdown",
   "id": "395bf2db-0957-4ece-a648-07ffb210b455",
   "metadata": {},
   "source": [
    "### 1️⃣ What is the average age of customers?"
   ]
  },
  {
   "cell_type": "code",
   "execution_count": 7,
   "id": "8388c277-124d-4d6e-ba6f-2cdbf8ddedfa",
   "metadata": {},
   "outputs": [
    {
     "data": {
      "text/plain": [
       "np.float64(39.535)"
      ]
     },
     "execution_count": 7,
     "metadata": {},
     "output_type": "execute_result"
    }
   ],
   "source": [
    "data.Age.mean()"
   ]
  },
  {
   "cell_type": "markdown",
   "id": "89787125-0258-4bcf-b922-a4efa68bdf2c",
   "metadata": {},
   "source": [
    "### 2️⃣ What is the most purchased product?"
   ]
  },
  {
   "cell_type": "code",
   "execution_count": 13,
   "id": "acb9f2bf-ae51-48cd-b057-93d81983f005",
   "metadata": {},
   "outputs": [
    {
     "data": {
      "text/plain": [
       "'Magazine'"
      ]
     },
     "execution_count": 13,
     "metadata": {},
     "output_type": "execute_result"
    }
   ],
   "source": [
    "data.groupby(\"Product\")[\"Quantity\"].sum().idxmax()"
   ]
  },
  {
   "cell_type": "markdown",
   "id": "2cdb0d27-21e5-4f6d-aeca-339bcdaa7902",
   "metadata": {},
   "source": [
    "### 3️⃣ Which city has the highest number of orders?"
   ]
  },
  {
   "cell_type": "code",
   "execution_count": 14,
   "id": "9ae5fdb0-e361-4dd5-adfe-8952a7529418",
   "metadata": {},
   "outputs": [
    {
     "data": {
      "text/plain": [
       "'Phoenix'"
      ]
     },
     "execution_count": 14,
     "metadata": {},
     "output_type": "execute_result"
    }
   ],
   "source": [
    "data.groupby(\"City\")[\"Quantity\"].sum().idxmax()"
   ]
  },
  {
   "cell_type": "markdown",
   "id": "0283b394-fdfb-42f6-a77d-99055d2a14b0",
   "metadata": {},
   "source": [
    "### 4️⃣ What is the total revenue generated?"
   ]
  },
  {
   "cell_type": "code",
   "execution_count": 15,
   "id": "b7fe8ef5-db34-4cb0-b6cd-b259e591a25b",
   "metadata": {},
   "outputs": [
    {
     "data": {
      "text/plain": [
       "np.int64(280243)"
      ]
     },
     "execution_count": 15,
     "metadata": {},
     "output_type": "execute_result"
    }
   ],
   "source": [
    "data[\"Total Sales\"].sum()"
   ]
  },
  {
   "cell_type": "markdown",
   "id": "4e8b3fd9-56fe-4c3e-bd27-765fa27e0c86",
   "metadata": {},
   "source": [
    "### 5️⃣ How many unique products were sold?"
   ]
  },
  {
   "cell_type": "code",
   "execution_count": 16,
   "id": "c6685ca9-a2c8-42c6-a4f6-1e773bef19a7",
   "metadata": {},
   "outputs": [
    {
     "data": {
      "text/plain": [
       "array(['Laptop', 'Science Book', 'Microwave', 'Shoes', 'Novel', 'Tablet',\n",
       "       'Sweater', 'Jacket', 'Magazine', 'T-Shirt', 'Headphones', 'Jeans',\n",
       "       'Smartwatch', 'Washing Machine', 'Phone', 'Vacuum Cleaner',\n",
       "       'Refrigerator', 'Comics', 'Air Conditioner', 'History Book'],\n",
       "      dtype=object)"
      ]
     },
     "execution_count": 16,
     "metadata": {},
     "output_type": "execute_result"
    }
   ],
   "source": [
    "data.Product.unique()"
   ]
  },
  {
   "cell_type": "markdown",
   "id": "f709df72-f96e-47d6-9f32-c9fd05315f7a",
   "metadata": {},
   "source": [
    "### 6️⃣ What is the most popular payment method?"
   ]
  },
  {
   "cell_type": "code",
   "execution_count": 17,
   "id": "6db89dd3-f30c-47c3-ba0f-e406506fef9b",
   "metadata": {},
   "outputs": [
    {
     "data": {
      "text/plain": [
       "'PayPal'"
      ]
     },
     "execution_count": 17,
     "metadata": {},
     "output_type": "execute_result"
    }
   ],
   "source": [
    "data[\"Payment Method\"].max()"
   ]
  },
  {
   "cell_type": "markdown",
   "id": "1466cf0f-e797-4b24-afd8-623a912a513d",
   "metadata": {},
   "source": [
    "### 7️⃣ What is the average order quantity per transaction?"
   ]
  },
  {
   "cell_type": "code",
   "execution_count": 18,
   "id": "8e5f0bc1-9dc3-423c-a545-ed5033922780",
   "metadata": {},
   "outputs": [
    {
     "data": {
      "text/plain": [
       "np.float64(2.84)"
      ]
     },
     "execution_count": 18,
     "metadata": {},
     "output_type": "execute_result"
    }
   ],
   "source": [
    "data.Quantity.mean()"
   ]
  },
  {
   "cell_type": "markdown",
   "id": "1ee505a0-908d-41fc-9613-1d493c8d419d",
   "metadata": {},
   "source": [
    "### 8️⃣ Which category generates the highest revenue?"
   ]
  },
  {
   "cell_type": "code",
   "execution_count": 19,
   "id": "9c1d94f4-2fd9-43b2-80b5-9136f2312aa8",
   "metadata": {},
   "outputs": [
    {
     "data": {
      "text/plain": [
       "'Clothing'"
      ]
     },
     "execution_count": 19,
     "metadata": {},
     "output_type": "execute_result"
    }
   ],
   "source": [
    "data.groupby(\"Category\")[\"Total Sales\"].sum().idxmax()"
   ]
  },
  {
   "cell_type": "markdown",
   "id": "345bdd90-4cbf-401c-93d1-96fbc2927eb3",
   "metadata": {},
   "source": [
    "### 9️⃣ What is the gender distribution of customers?"
   ]
  },
  {
   "cell_type": "code",
   "execution_count": 27,
   "id": "4504e71a-ec59-4a0d-9d62-778c7774f0de",
   "metadata": {},
   "outputs": [
    {
     "data": {
      "text/plain": [
       "Gender\n",
       "Male      52.0\n",
       "Female    48.0\n",
       "Name: proportion, dtype: float64"
      ]
     },
     "execution_count": 27,
     "metadata": {},
     "output_type": "execute_result"
    }
   ],
   "source": [
    "data.Gender.value_counts(normalize=True)*100"
   ]
  },
  {
   "cell_type": "markdown",
   "id": "23253ff2-4760-4dbf-a213-ebde1fff5bd6",
   "metadata": {},
   "source": [
    "### 🔟 What is the highest and lowest order value?"
   ]
  },
  {
   "cell_type": "code",
   "execution_count": 29,
   "id": "63e6b6a5-b0cc-487b-991e-0b99d14ca622",
   "metadata": {},
   "outputs": [
    {
     "name": "stdout",
     "output_type": "stream",
     "text": [
      "Highest:  4985\n",
      "Lowest:  17\n"
     ]
    }
   ],
   "source": [
    "highest = data[\"Total Sales\"].max()\n",
    "Lowest = data[\"Total Sales\"].min()\n",
    "print(\"Highest: \",highest) \n",
    "print(\"Lowest: \",Lowest)"
   ]
  }
 ],
 "metadata": {
  "kernelspec": {
   "display_name": "Python 3 (ipykernel)",
   "language": "python",
   "name": "python3"
  },
  "language_info": {
   "codemirror_mode": {
    "name": "ipython",
    "version": 3
   },
   "file_extension": ".py",
   "mimetype": "text/x-python",
   "name": "python",
   "nbconvert_exporter": "python",
   "pygments_lexer": "ipython3",
   "version": "3.13.1"
  }
 },
 "nbformat": 4,
 "nbformat_minor": 5
}
